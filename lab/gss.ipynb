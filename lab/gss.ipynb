{
  "cells": [
    {
      "cell_type": "markdown",
      "metadata": {
        "id": "gVbTAzbwXrDk"
      },
      "source": [
        "## EDA LAB\n",
        "\n",
        "The General Social Survey (GSS) is a bi-annual nationally representative survey of Americans, with almost 7000 different questions asked since the survey began in the 1970s. It has straightforward questions about respondents' demographic information, but also questions like \"Does your job regularly require you to perform repetitive or forceful hand movements or involve awkward postures?\" or \"How often do the demands of your job interfere with your family life?\" There are a variety of controversial questions. No matter what you're curious about, there's something interesting in here to check out. The codebook is 904 pages (use CTRL+F to search it).\n",
        "\n",
        "The data and codebook are available at:\n",
        "https://gss.norc.org/us/en/gss/get-the-data.html\n",
        "\n",
        "The datasets are so large that it might make sense to pick the variables you want, and then download just those variables from:\n",
        "https://gssdataexplorer.norc.org/variables/vfilter\n",
        "\n",
        "Here is your task:\n",
        "1. Download a small (5-15) set of variables of interest.\n",
        "2. Write a short description of the data you chose, and why. (1 page)\n",
        "3. Load the data using Pandas. Clean them up for EDA. Do this in a notebook with comments or markdown chunks explaining your choices.\n",
        "4. Produce some numeric summaries and visualizations. (1-3 pages)\n",
        "5. Describe your findings in 1-2 pages.\n",
        "6. If you have other content that you think absolutely must be included, you can include it in an appendix of any length.\n",
        "\n",
        "For example, you might want to look at how aspects of a person's childhood family are correlated or not with their career or family choices as an adult. Or how political or religious affiliations correlate with drug use or sexual practices. It's an extremely wide-ranging survey.\n",
        "\n",
        "Feel free to work with other people in groups, and ask questions!"
      ]
    },
    {
      "cell_type": "code",
      "source": [
        "# import required libraries\n",
        "import numpy as np\n",
        "import pandas as pd\n",
        "import matplotlib.pyplot as plt"
      ],
      "metadata": {
        "id": "nlJixvTkdMzf"
      },
      "execution_count": 1,
      "outputs": []
    },
    {
      "cell_type": "markdown",
      "source": [
        "# Load the data using Pandas"
      ],
      "metadata": {
        "id": "DzRpMVSZzRtS"
      }
    },
    {
      "cell_type": "code",
      "source": [
        "# import data from the GSS\n",
        "# Define file path\n",
        "file_path = \"/content/GSS.xlsx\"\n",
        "\n",
        "# Read the Excel file\n",
        "df = pd.read_excel(file_path)"
      ],
      "metadata": {
        "id": "jB4FjE2UdQ7B"
      },
      "execution_count": 2,
      "outputs": []
    },
    {
      "cell_type": "code",
      "source": [
        "print(df.head())"
      ],
      "metadata": {
        "colab": {
          "base_uri": "https://localhost:8080/"
        },
        "id": "YrUdfTw_jjpv",
        "outputId": "45908ace-c715-429a-eb98-9263875db043"
      },
      "execution_count": 3,
      "outputs": [
        {
          "output_type": "stream",
          "name": "stdout",
          "text": [
            "   year  id_               hrs2        marital childs age     sex  \\\n",
            "0  1990    1  .i:  Inapplicable  Never married      0  65  FEMALE   \n",
            "1  1990    2  .i:  Inapplicable  Never married      0  42    MALE   \n",
            "2  1990    3  .i:  Inapplicable  Never married      0  25    MALE   \n",
            "3  1990    4  .i:  Inapplicable  Never married      0  39  FEMALE   \n",
            "4  1990    5  .i:  Inapplicable  Never married      6  55    MALE   \n",
            "\n",
            "          happy             hapmar               life    ballot  \n",
            "0  Pretty happy  .i:  Inapplicable  .i:  Inapplicable  Ballot b  \n",
            "1    Very happy  .i:  Inapplicable  .i:  Inapplicable  Ballot b  \n",
            "2  Pretty happy  .i:  Inapplicable           Exciting  Ballot a  \n",
            "3  Pretty happy  .i:  Inapplicable           Exciting  Ballot a  \n",
            "4  Pretty happy  .i:  Inapplicable  .i:  Inapplicable  Ballot b  \n"
          ]
        }
      ]
    },
    {
      "cell_type": "code",
      "source": [
        "# see information about df, ensure that all variables I want are there\n",
        "print(df.shape, '\\n') # List the dimensions of df\n",
        "print(df.dtypes, '\\n') # The types of the variables"
      ],
      "metadata": {
        "colab": {
          "base_uri": "https://localhost:8080/"
        },
        "id": "H9Rbx8yZj6Jm",
        "outputId": "d67ea00a-112e-4eff-af21-dcadc0bc3cd7"
      },
      "execution_count": 4,
      "outputs": [
        {
          "output_type": "stream",
          "name": "stdout",
          "text": [
            "(47497, 11) \n",
            "\n",
            "year        int64\n",
            "id_         int64\n",
            "hrs2       object\n",
            "marital    object\n",
            "childs     object\n",
            "age        object\n",
            "sex        object\n",
            "happy      object\n",
            "hapmar     object\n",
            "life       object\n",
            "ballot     object\n",
            "dtype: object \n",
            "\n"
          ]
        }
      ]
    },
    {
      "cell_type": "markdown",
      "source": [
        "# Clean the data"
      ],
      "metadata": {
        "id": "4iMuJC78zXF9"
      }
    },
    {
      "cell_type": "markdown",
      "source": [
        "Most of the variables have various different labels on data inputs that are along the lines of \"Don't Know\" or \"Skipped\", and for those I would like to put all of those towgtehr into one sort of \"No Answer\" catgeory unless the idfferentiation between the reasons there is no answer is actually important. Another main strategy I want to use to clean the data is to coerce the numeric variables that are currently obejct types to actually be numeric so that I can make meaningful summaries and visualizations with them."
      ],
      "metadata": {
        "id": "y7DLCKJ2VNSx"
      }
    },
    {
      "cell_type": "markdown",
      "source": [
        "## Clean gender variable"
      ],
      "metadata": {
        "id": "fDF5uUlXVHg5"
      }
    },
    {
      "cell_type": "code",
      "source": [
        "print(df['sex'].unique(),'\\n')"
      ],
      "metadata": {
        "id": "dGj1Q2G6U8qx",
        "outputId": "fdfdc023-5fca-4088-88c6-00559b4b64ae",
        "colab": {
          "base_uri": "https://localhost:8080/"
        }
      },
      "execution_count": 18,
      "outputs": [
        {
          "output_type": "stream",
          "name": "stdout",
          "text": [
            "['FEMALE' 'MALE' '.n:  No answer' '.i:  Inapplicable'\n",
            " '.s:  Skipped on Web' '.d:  Do not Know/Cannot Choose'] \n",
            "\n"
          ]
        }
      ]
    },
    {
      "cell_type": "code",
      "source": [
        "df[\"sex\"] = df[\"sex\"].replace(['.n:  No answer', '.i:  Inapplicable',\n",
        "                               '.s:  Skipped on Web', '.d:  Do not Know/Cannot Choose'],\n",
        "                              'No Answer')"
      ],
      "metadata": {
        "id": "rV3rgJgIWPee"
      },
      "execution_count": 19,
      "outputs": []
    },
    {
      "cell_type": "code",
      "source": [
        "print(df['sex'].unique(),'\\n')"
      ],
      "metadata": {
        "id": "6KzRRtshWnhM",
        "outputId": "0d845159-2c85-4d78-fcdc-1917e66f27fb",
        "colab": {
          "base_uri": "https://localhost:8080/"
        }
      },
      "execution_count": 20,
      "outputs": [
        {
          "output_type": "stream",
          "name": "stdout",
          "text": [
            "['FEMALE' 'MALE' 'No Answer'] \n",
            "\n"
          ]
        }
      ]
    },
    {
      "cell_type": "markdown",
      "source": [
        "## Clean age variable"
      ],
      "metadata": {
        "id": "ONmyJHJcQ7pu"
      }
    },
    {
      "cell_type": "code",
      "source": [
        "# coerce age variable to numeric\n",
        "df['age'] = pd.to_numeric(df['age'], errors='coerce')"
      ],
      "metadata": {
        "id": "pgIQWIjGyLYE"
      },
      "execution_count": 15,
      "outputs": []
    },
    {
      "cell_type": "code",
      "source": [
        "# need to account for age 89 or older\n",
        "df['age'] = df['age'].replace('89 or older', '89')"
      ],
      "metadata": {
        "id": "DpAVbAS2Q0A2"
      },
      "execution_count": 16,
      "outputs": []
    },
    {
      "cell_type": "code",
      "source": [
        "print('Age variable summary: \\n', df['age'].describe(),'\\n')"
      ],
      "metadata": {
        "id": "cO9F2ulb7DuZ",
        "outputId": "461e21ae-bded-4156-9e7e-e2c9294380df",
        "colab": {
          "base_uri": "https://localhost:8080/"
        }
      },
      "execution_count": 17,
      "outputs": [
        {
          "output_type": "stream",
          "name": "stdout",
          "text": [
            "Age variable summary: \n",
            " count    46520.000000\n",
            "mean        47.192691\n",
            "std         17.199202\n",
            "min         18.000000\n",
            "25%         33.000000\n",
            "50%         45.000000\n",
            "75%         60.000000\n",
            "max         88.000000\n",
            "Name: age, dtype: float64 \n",
            "\n"
          ]
        }
      ]
    },
    {
      "cell_type": "markdown",
      "source": [
        "## Clean child variable"
      ],
      "metadata": {
        "id": "bMm1hB0-RGsy"
      }
    },
    {
      "cell_type": "code",
      "source": [
        "print(df['childs'].unique(),'\\n') # list of unique values\n",
        "print(df['childs'].value_counts(), '\\n') # number of times each unique value occurs"
      ],
      "metadata": {
        "id": "ERaGtm4du-Gg",
        "outputId": "419f652f-7614-4613-dde7-02a9355e71c0",
        "colab": {
          "base_uri": "https://localhost:8080/"
        }
      },
      "execution_count": 7,
      "outputs": [
        {
          "output_type": "stream",
          "name": "stdout",
          "text": [
            "['0' '6' '2' '3' '5' '1' '4' '.d:  Do not Know/Cannot Choose' '8 or more'\n",
            " '7' '.n:  No answer' '.s:  Skipped on Web' '.i:  Inapplicable'] \n",
            "\n",
            "childs\n",
            "0                                 13350\n",
            "2                                 12401\n",
            "1                                  7596\n",
            "3                                  7393\n",
            "4                                  3586\n",
            "5                                  1458\n",
            "6                                   721\n",
            "8 or more                           444\n",
            "7                                   375\n",
            ".d:  Do not Know/Cannot Choose      113\n",
            ".n:  No answer                       33\n",
            ".i:  Inapplicable                    16\n",
            ".s:  Skipped on Web                  11\n",
            "Name: count, dtype: int64 \n",
            "\n"
          ]
        }
      ]
    },
    {
      "cell_type": "code",
      "source": [
        "# need to account for number of children 8 or more, changing to 8 so still retained when coerce\n",
        "df['childs'] = df['childs'].replace('8 or more', '8')"
      ],
      "metadata": {
        "id": "dEZJUrLruoci"
      },
      "execution_count": 8,
      "outputs": []
    },
    {
      "cell_type": "code",
      "source": [
        "# coerce number of children to numeric\n",
        "df['childs'] = pd.to_numeric(df['childs'], errors='coerce')"
      ],
      "metadata": {
        "id": "UwMYo5gPyRlH"
      },
      "execution_count": 9,
      "outputs": []
    },
    {
      "cell_type": "code",
      "source": [
        "print(df['childs'].unique(),'\\n') # list of unique values"
      ],
      "metadata": {
        "id": "SLemfvoaQYy-",
        "outputId": "c72081d1-0ec5-4e2a-8174-e7e353fb006e",
        "colab": {
          "base_uri": "https://localhost:8080/"
        }
      },
      "execution_count": 10,
      "outputs": [
        {
          "output_type": "stream",
          "name": "stdout",
          "text": [
            "[ 0.  6.  2.  3.  5.  1.  4. nan  8.  7.] \n",
            "\n"
          ]
        }
      ]
    },
    {
      "cell_type": "code",
      "source": [
        "print('# of Children variable summary: \\n', df['childs'].describe(),'\\n')"
      ],
      "metadata": {
        "id": "aJ_PYHF2ubLN",
        "outputId": "ba227b19-5f85-4a0a-ffde-de6c877fe711",
        "colab": {
          "base_uri": "https://localhost:8080/"
        }
      },
      "execution_count": 11,
      "outputs": [
        {
          "output_type": "stream",
          "name": "stdout",
          "text": [
            "# of Children variable summary: \n",
            " count    47324.000000\n",
            "mean         1.832347\n",
            "std          1.666458\n",
            "min          0.000000\n",
            "25%          0.000000\n",
            "50%          2.000000\n",
            "75%          3.000000\n",
            "max          8.000000\n",
            "Name: childs, dtype: float64 \n",
            "\n"
          ]
        }
      ]
    },
    {
      "cell_type": "markdown",
      "source": [
        "## Clean number hours work per week variable"
      ],
      "metadata": {
        "id": "_OZilA0TRMr_"
      }
    },
    {
      "cell_type": "code",
      "source": [
        "# number of hours usually work a week should also be numeric, need to account for non-numeric answers\n",
        "df['hrs2'] = df['hrs2'].replace('89+ hrs', '89')"
      ],
      "metadata": {
        "id": "okUZaGNLyZFZ"
      },
      "execution_count": 12,
      "outputs": []
    },
    {
      "cell_type": "code",
      "source": [
        "# coerce number of children to numeric\n",
        "df['hrs2'] = pd.to_numeric(df['hrs2'], errors='coerce')"
      ],
      "metadata": {
        "id": "xJlAXt0XSY2J"
      },
      "execution_count": 13,
      "outputs": []
    },
    {
      "cell_type": "code",
      "source": [
        "print('Usual # of hours/week worked variable summary: \\n', df['hrs2'].describe(),'\\n')"
      ],
      "metadata": {
        "id": "4MXHKh-mSe1p",
        "outputId": "8fcb7f70-95bf-4d58-bfe0-62badc8266f2",
        "colab": {
          "base_uri": "https://localhost:8080/"
        }
      },
      "execution_count": 14,
      "outputs": [
        {
          "output_type": "stream",
          "name": "stdout",
          "text": [
            "Usual # of hours/week worked variable summary: \n",
            " count    919.000000\n",
            "mean      38.648531\n",
            "std       13.484982\n",
            "min        0.000000\n",
            "25%       35.000000\n",
            "50%       40.000000\n",
            "75%       45.000000\n",
            "max       89.000000\n",
            "Name: hrs2, dtype: float64 \n",
            "\n"
          ]
        }
      ]
    },
    {
      "cell_type": "markdown",
      "source": [
        "## Clean general happiness variable"
      ],
      "metadata": {
        "id": "wUq6tMwTTnIi"
      }
    },
    {
      "cell_type": "code",
      "source": [
        "# clean general happiness, want to put all \"No answer\" type of answers as one category\n",
        "df[\"happy\"] = df[\"happy\"].replace(['.n:  No answer', '.i:  Inapplicable',\n",
        "                               '.s:  Skipped on Web', '.d:  Do not Know/Cannot Choose'],\n",
        "                              'No Answer')"
      ],
      "metadata": {
        "id": "PzeGzyKGT-5O"
      },
      "execution_count": null,
      "outputs": []
    },
    {
      "cell_type": "code",
      "source": [
        "print(df['happy'].unique(),'\\n')"
      ],
      "metadata": {
        "id": "L7tSFmjCYozV"
      },
      "execution_count": null,
      "outputs": []
    },
    {
      "cell_type": "markdown",
      "source": [
        "## Clean marital happiness variable"
      ],
      "metadata": {
        "id": "zKKCw1HHUqbh"
      }
    },
    {
      "cell_type": "code",
      "source": [
        "# clean marital happiness, want to put the \"Don't Know\" and \"Skipped\" into one catgeory\n",
        "# and have Inapplicable still be its own catgeory (bc that would mean those ppl aren't married and that is still important)\n",
        "df['marital'] = df['marital'].replace(['.n:  No answer', '.s:  Skipped on Web',\n",
        "                                       '.d:  Do not Know/Cannot Choose'],\n",
        "                              'No Answer')"
      ],
      "metadata": {
        "id": "-Zq6gIwHUEa1"
      },
      "execution_count": null,
      "outputs": []
    },
    {
      "cell_type": "code",
      "source": [
        "df['hapmar'] = df['hapmar'].replace('.i:  Inapplicable', 'Inapplicable')"
      ],
      "metadata": {
        "id": "pAQsQ3wkYC3M"
      },
      "execution_count": null,
      "outputs": []
    },
    {
      "cell_type": "code",
      "source": [
        "print(df['hapmar'].unique(),'\\n')"
      ],
      "metadata": {
        "id": "5CLgGBniYrNs"
      },
      "execution_count": null,
      "outputs": []
    },
    {
      "cell_type": "markdown",
      "source": [
        "## Clean marital status variable"
      ],
      "metadata": {
        "id": "3bqg9rlkUsNe"
      }
    },
    {
      "cell_type": "code",
      "source": [
        "# clean marital status - make one category for all \"No answer\" answers\n",
        "print(df['marital'].unique(),'\\n')"
      ],
      "metadata": {
        "id": "TJOZAPDqUXoF",
        "outputId": "c070b8dd-81fc-4cba-fcd3-a9f379803fb7",
        "colab": {
          "base_uri": "https://localhost:8080/"
        }
      },
      "execution_count": 21,
      "outputs": [
        {
          "output_type": "stream",
          "name": "stdout",
          "text": [
            "['Never married' 'Widowed' 'Divorced' 'Married' 'Separated'\n",
            " '.n:  No answer' '.s:  Skipped on Web' '.d:  Do not Know/Cannot Choose'] \n",
            "\n"
          ]
        }
      ]
    },
    {
      "cell_type": "code",
      "source": [
        "df['marital'] = df['marital'].replace(['.n:  No answer', '.s:  Skipped on Web',\n",
        "                                       '.d:  Do not Know/Cannot Choose'],\n",
        "                              'No Answer')"
      ],
      "metadata": {
        "id": "CAQRJgHeW-FO"
      },
      "execution_count": 22,
      "outputs": []
    },
    {
      "cell_type": "code",
      "source": [
        "print(df['marital'].unique(),'\\n')"
      ],
      "metadata": {
        "id": "wHTH-hJ5XNR4",
        "outputId": "edcfd6a1-ef3e-4864-abb8-4b48f9242651",
        "colab": {
          "base_uri": "https://localhost:8080/"
        }
      },
      "execution_count": 23,
      "outputs": [
        {
          "output_type": "stream",
          "name": "stdout",
          "text": [
            "['Never married' 'Widowed' 'Divorced' 'Married' 'Separated' 'No Answer'] \n",
            "\n"
          ]
        }
      ]
    },
    {
      "cell_type": "markdown",
      "source": [
        "## Clean exciting/dull life variable"
      ],
      "metadata": {
        "id": "Uume2nPNXZhb"
      }
    },
    {
      "cell_type": "code",
      "source": [
        "print(df['life'].unique(),'\\n')"
      ],
      "metadata": {
        "id": "5EsY76tmXb7h",
        "outputId": "33c52fc4-2213-4678-c1a1-72726495e568",
        "colab": {
          "base_uri": "https://localhost:8080/"
        }
      },
      "execution_count": 24,
      "outputs": [
        {
          "output_type": "stream",
          "name": "stdout",
          "text": [
            "['.i:  Inapplicable' 'Exciting' 'Routine' '.d:  Do not Know/Cannot Choose'\n",
            " 'Dull' '.n:  No answer' '.s:  Skipped on Web'] \n",
            "\n"
          ]
        }
      ]
    },
    {
      "cell_type": "code",
      "source": [
        "df['life'] = df['life'].replace(['.n:  No answer', '.s:  Skipped on Web', '.i:  Inapplicable',\n",
        "                                       '.d:  Do not Know/Cannot Choose'],\n",
        "                              'No Answer')"
      ],
      "metadata": {
        "id": "G4vvibAQXhNL"
      },
      "execution_count": 25,
      "outputs": []
    },
    {
      "cell_type": "code",
      "source": [
        "print(df['life'].unique(),'\\n')"
      ],
      "metadata": {
        "id": "f3iEdmFCXoNP",
        "outputId": "2f932b33-6ef2-43d5-ecf9-0f64b3bd3db4",
        "colab": {
          "base_uri": "https://localhost:8080/"
        }
      },
      "execution_count": 26,
      "outputs": [
        {
          "output_type": "stream",
          "name": "stdout",
          "text": [
            "['.i:  Inapplicable' 'Exciting' 'Routine' 'No Answer' 'Dull'] \n",
            "\n"
          ]
        }
      ]
    },
    {
      "cell_type": "markdown",
      "source": [
        "# Numeric Summaries and Visualizations"
      ],
      "metadata": {
        "id": "9ZFudXrNzMO8"
      }
    },
    {
      "cell_type": "code",
      "source": [
        "# explore age variable\n",
        "var = 'age'\n",
        "print(df[var].value_counts(), '\\n') # number of times each unique value occurs\n",
        "print(df[var].hist())"
      ],
      "metadata": {
        "id": "nqpSj4vizfdi"
      },
      "execution_count": null,
      "outputs": []
    },
    {
      "cell_type": "code",
      "source": [
        "# explore marital status\n",
        "var = 'marital'\n",
        "print(df[var].value_counts(), '\\n') # number of times each unique value occurs\n",
        "print(df[var].hist())"
      ],
      "metadata": {
        "id": "u3xq5MVNzs_6"
      },
      "execution_count": null,
      "outputs": []
    },
    {
      "cell_type": "code",
      "source": [
        "# visualization: scatterplot showing general happiness by age, sex, and race"
      ],
      "metadata": {
        "id": "JxYaVnFwzw3-"
      },
      "execution_count": null,
      "outputs": []
    },
    {
      "cell_type": "code",
      "source": [
        "# visualization: scatterplot showing marital happiness with number of children, hrs usually work, and sex"
      ],
      "metadata": {
        "id": "DpoTMuig0AwK"
      },
      "execution_count": null,
      "outputs": []
    },
    {
      "cell_type": "code",
      "source": [
        "# visualization: life exciting or dull with age, sex"
      ],
      "metadata": {
        "id": "waH5Rtoj0c-o"
      },
      "execution_count": null,
      "outputs": []
    },
    {
      "cell_type": "code",
      "source": [
        "# visualiaztion: want to see distribution of happiness at different ages"
      ],
      "metadata": {
        "id": "GF20u5f60rxo"
      },
      "execution_count": null,
      "outputs": []
    },
    {
      "cell_type": "code",
      "source": [
        "# visalization: over the years, have people gotten happier in general?"
      ],
      "metadata": {
        "id": "qSdoX3ar0wx1"
      },
      "execution_count": null,
      "outputs": []
    }
  ],
  "metadata": {
    "language_info": {
      "name": "python"
    },
    "colab": {
      "provenance": []
    },
    "kernelspec": {
      "name": "python3",
      "display_name": "Python 3"
    }
  },
  "nbformat": 4,
  "nbformat_minor": 0
}