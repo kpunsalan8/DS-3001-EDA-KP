{
  "cells": [
    {
      "cell_type": "markdown",
      "metadata": {
        "id": "gVbTAzbwXrDk"
      },
      "source": [
        "## EDA LAB\n",
        "\n",
        "The General Social Survey (GSS) is a bi-annual nationally representative survey of Americans, with almost 7000 different questions asked since the survey began in the 1970s. It has straightforward questions about respondents' demographic information, but also questions like \"Does your job regularly require you to perform repetitive or forceful hand movements or involve awkward postures?\" or \"How often do the demands of your job interfere with your family life?\" There are a variety of controversial questions. No matter what you're curious about, there's something interesting in here to check out. The codebook is 904 pages (use CTRL+F to search it).\n",
        "\n",
        "The data and codebook are available at:\n",
        "https://gss.norc.org/us/en/gss/get-the-data.html\n",
        "\n",
        "The datasets are so large that it might make sense to pick the variables you want, and then download just those variables from:\n",
        "https://gssdataexplorer.norc.org/variables/vfilter\n",
        "\n",
        "Here is your task:\n",
        "1. Download a small (5-15) set of variables of interest.\n",
        "2. Write a short description of the data you chose, and why. (1 page)\n",
        "3. Load the data using Pandas. Clean them up for EDA. Do this in a notebook with comments or markdown chunks explaining your choices.\n",
        "4. Produce some numeric summaries and visualizations. (1-3 pages)\n",
        "5. Describe your findings in 1-2 pages.\n",
        "6. If you have other content that you think absolutely must be included, you can include it in an appendix of any length.\n",
        "\n",
        "For example, you might want to look at how aspects of a person's childhood family are correlated or not with their career or family choices as an adult. Or how political or religious affiliations correlate with drug use or sexual practices. It's an extremely wide-ranging survey.\n",
        "\n",
        "Feel free to work with other people in groups, and ask questions!"
      ]
    },
    {
      "cell_type": "code",
      "source": [
        "# import required libraries\n",
        "import numpy as np\n",
        "import pandas as pd\n",
        "import matplotlib.pyplot as plt"
      ],
      "metadata": {
        "id": "nlJixvTkdMzf"
      },
      "execution_count": 1,
      "outputs": []
    },
    {
      "cell_type": "code",
      "source": [
        "# import data from the GSS\n",
        "# Define file path\n",
        "file_path = \"/content/GSS.xlsx\"\n",
        "\n",
        "# Read the Excel file\n",
        "df = pd.read_excel(file_path)"
      ],
      "metadata": {
        "id": "jB4FjE2UdQ7B"
      },
      "execution_count": 6,
      "outputs": []
    },
    {
      "cell_type": "code",
      "source": [
        "print(df.head())"
      ],
      "metadata": {
        "id": "YrUdfTw_jjpv",
        "outputId": "5aa56a3d-9d03-4246-db2c-9b6854ff78d7",
        "colab": {
          "base_uri": "https://localhost:8080/"
        }
      },
      "execution_count": 7,
      "outputs": [
        {
          "output_type": "stream",
          "name": "stdout",
          "text": [
            "   year  id_               hrs2        marital childs age     sex   race  \\\n",
            "0  1990    1  .i:  Inapplicable  Never married      0  65  FEMALE  White   \n",
            "1  1990    2  .i:  Inapplicable  Never married      0  42    MALE  White   \n",
            "2  1990    3  .i:  Inapplicable  Never married      0  25    MALE  White   \n",
            "3  1990    4  .i:  Inapplicable  Never married      0  39  FEMALE  White   \n",
            "4  1990    5  .i:  Inapplicable  Never married      6  55    MALE  Black   \n",
            "\n",
            "          happy             hapmar               life    ballot  \n",
            "0  Pretty happy  .i:  Inapplicable  .i:  Inapplicable  Ballot b  \n",
            "1    Very happy  .i:  Inapplicable  .i:  Inapplicable  Ballot b  \n",
            "2  Pretty happy  .i:  Inapplicable           Exciting  Ballot a  \n",
            "3  Pretty happy  .i:  Inapplicable           Exciting  Ballot a  \n",
            "4  Pretty happy  .i:  Inapplicable  .i:  Inapplicable  Ballot b  \n"
          ]
        }
      ]
    },
    {
      "cell_type": "code",
      "source": [
        "# see information about df, ensure that all variables I want are there\n",
        "print(df.shape, '\\n') # List the dimensions of df\n",
        "print(df.dtypes, '\\n') # The types of the variables"
      ],
      "metadata": {
        "id": "H9Rbx8yZj6Jm",
        "outputId": "2123f964-4283-4e66-8ff6-a66bb9524295",
        "colab": {
          "base_uri": "https://localhost:8080/"
        }
      },
      "execution_count": 8,
      "outputs": [
        {
          "output_type": "stream",
          "name": "stdout",
          "text": [
            "(47497, 12) \n",
            "\n",
            "year        int64\n",
            "id_         int64\n",
            "hrs2       object\n",
            "marital    object\n",
            "childs     object\n",
            "age        object\n",
            "sex        object\n",
            "race       object\n",
            "happy      object\n",
            "hapmar     object\n",
            "life       object\n",
            "ballot     object\n",
            "dtype: object \n",
            "\n"
          ]
        }
      ]
    }
  ],
  "metadata": {
    "language_info": {
      "name": "python"
    },
    "colab": {
      "provenance": []
    },
    "kernelspec": {
      "name": "python3",
      "display_name": "Python 3"
    }
  },
  "nbformat": 4,
  "nbformat_minor": 0
}