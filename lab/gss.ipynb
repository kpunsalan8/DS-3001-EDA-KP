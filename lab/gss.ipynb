{
  "cells": [
    {
      "cell_type": "markdown",
      "metadata": {
        "id": "gVbTAzbwXrDk"
      },
      "source": [
        "## EDA LAB\n",
        "\n",
        "The General Social Survey (GSS) is a bi-annual nationally representative survey of Americans, with almost 7000 different questions asked since the survey began in the 1970s. It has straightforward questions about respondents' demographic information, but also questions like \"Does your job regularly require you to perform repetitive or forceful hand movements or involve awkward postures?\" or \"How often do the demands of your job interfere with your family life?\" There are a variety of controversial questions. No matter what you're curious about, there's something interesting in here to check out. The codebook is 904 pages (use CTRL+F to search it).\n",
        "\n",
        "The data and codebook are available at:\n",
        "https://gss.norc.org/us/en/gss/get-the-data.html\n",
        "\n",
        "The datasets are so large that it might make sense to pick the variables you want, and then download just those variables from:\n",
        "https://gssdataexplorer.norc.org/variables/vfilter\n",
        "\n",
        "Here is your task:\n",
        "1. Download a small (5-15) set of variables of interest.\n",
        "2. Write a short description of the data you chose, and why. (1 page)\n",
        "3. Load the data using Pandas. Clean them up for EDA. Do this in a notebook with comments or markdown chunks explaining your choices.\n",
        "4. Produce some numeric summaries and visualizations. (1-3 pages)\n",
        "5. Describe your findings in 1-2 pages.\n",
        "6. If you have other content that you think absolutely must be included, you can include it in an appendix of any length.\n",
        "\n",
        "For example, you might want to look at how aspects of a person's childhood family are correlated or not with their career or family choices as an adult. Or how political or religious affiliations correlate with drug use or sexual practices. It's an extremely wide-ranging survey.\n",
        "\n",
        "Feel free to work with other people in groups, and ask questions!"
      ]
    },
    {
      "cell_type": "code",
      "source": [
        "# import required libraries\n",
        "import numpy as np\n",
        "import pandas as pd\n",
        "import matplotlib.pyplot as plt"
      ],
      "metadata": {
        "id": "nlJixvTkdMzf"
      },
      "execution_count": 2,
      "outputs": []
    },
    {
      "cell_type": "code",
      "source": [
        "import seaborn as sns # Import Seaborn"
      ],
      "metadata": {
        "id": "gni7i8JFZX14"
      },
      "execution_count": 3,
      "outputs": []
    },
    {
      "cell_type": "markdown",
      "source": [
        "# Load the data using Pandas"
      ],
      "metadata": {
        "id": "DzRpMVSZzRtS"
      }
    },
    {
      "cell_type": "code",
      "source": [
        "# import data from the GSS\n",
        "# Define file path\n",
        "file_path = \"/content/GSS.xlsx\"\n",
        "\n",
        "# Read the Excel file\n",
        "df = pd.read_excel(file_path)"
      ],
      "metadata": {
        "id": "jB4FjE2UdQ7B"
      },
      "execution_count": 5,
      "outputs": []
    },
    {
      "cell_type": "code",
      "source": [
        "print(df.head())"
      ],
      "metadata": {
        "colab": {
          "base_uri": "https://localhost:8080/"
        },
        "id": "YrUdfTw_jjpv",
        "outputId": "88ac3de3-d20e-4413-c9ad-5bd72d1fcd9c"
      },
      "execution_count": 6,
      "outputs": [
        {
          "output_type": "stream",
          "name": "stdout",
          "text": [
            "   year  id_               hrs2        marital childs age     sex  \\\n",
            "0  1990    1  .i:  Inapplicable  Never married      0  65  FEMALE   \n",
            "1  1990    2  .i:  Inapplicable  Never married      0  42    MALE   \n",
            "2  1990    3  .i:  Inapplicable  Never married      0  25    MALE   \n",
            "3  1990    4  .i:  Inapplicable  Never married      0  39  FEMALE   \n",
            "4  1990    5  .i:  Inapplicable  Never married      6  55    MALE   \n",
            "\n",
            "          happy             hapmar               life    ballot  \n",
            "0  Pretty happy  .i:  Inapplicable  .i:  Inapplicable  Ballot b  \n",
            "1    Very happy  .i:  Inapplicable  .i:  Inapplicable  Ballot b  \n",
            "2  Pretty happy  .i:  Inapplicable           Exciting  Ballot a  \n",
            "3  Pretty happy  .i:  Inapplicable           Exciting  Ballot a  \n",
            "4  Pretty happy  .i:  Inapplicable  .i:  Inapplicable  Ballot b  \n"
          ]
        }
      ]
    },
    {
      "cell_type": "code",
      "source": [
        "# see information about df, ensure that all variables I want are there\n",
        "print(df.shape, '\\n') # List the dimensions of df\n",
        "print(df.dtypes, '\\n') # The types of the variables"
      ],
      "metadata": {
        "colab": {
          "base_uri": "https://localhost:8080/"
        },
        "id": "H9Rbx8yZj6Jm",
        "outputId": "5ae848b9-da29-4aed-b023-22ecf4d3d04d"
      },
      "execution_count": 7,
      "outputs": [
        {
          "output_type": "stream",
          "name": "stdout",
          "text": [
            "(47497, 11) \n",
            "\n",
            "year        int64\n",
            "id_         int64\n",
            "hrs2       object\n",
            "marital    object\n",
            "childs     object\n",
            "age        object\n",
            "sex        object\n",
            "happy      object\n",
            "hapmar     object\n",
            "life       object\n",
            "ballot     object\n",
            "dtype: object \n",
            "\n"
          ]
        }
      ]
    },
    {
      "cell_type": "markdown",
      "source": [
        "# Clean the data"
      ],
      "metadata": {
        "id": "4iMuJC78zXF9"
      }
    },
    {
      "cell_type": "markdown",
      "source": [
        "Most of the variables have various different labels on data inputs that are along the lines of \"Don't Know\" or \"Skipped\", and for those I would like to put all of those towgtehr into one sort of \"No Answer\" catgeory unless the idfferentiation between the reasons there is no answer is actually important. Another main strategy I want to use to clean the data is to coerce the numeric variables that are currently obejct types to actually be numeric so that I can make meaningful summaries and visualizations with them."
      ],
      "metadata": {
        "id": "y7DLCKJ2VNSx"
      }
    },
    {
      "cell_type": "markdown",
      "source": [
        "## Clean gender variable"
      ],
      "metadata": {
        "id": "fDF5uUlXVHg5"
      }
    },
    {
      "cell_type": "code",
      "source": [
        "print(df['sex'].unique(),'\\n')"
      ],
      "metadata": {
        "colab": {
          "base_uri": "https://localhost:8080/"
        },
        "id": "dGj1Q2G6U8qx",
        "outputId": "7957ea44-2ec5-4b94-e9e9-ae443c98f6f1"
      },
      "execution_count": 8,
      "outputs": [
        {
          "output_type": "stream",
          "name": "stdout",
          "text": [
            "['FEMALE' 'MALE' '.n:  No answer' '.i:  Inapplicable'\n",
            " '.s:  Skipped on Web' '.d:  Do not Know/Cannot Choose'] \n",
            "\n"
          ]
        }
      ]
    },
    {
      "cell_type": "code",
      "source": [
        "df[\"sex\"] = df[\"sex\"].replace(['.n:  No answer', '.i:  Inapplicable',\n",
        "                               '.s:  Skipped on Web', '.d:  Do not Know/Cannot Choose'],\n",
        "                              'No Answer')"
      ],
      "metadata": {
        "id": "rV3rgJgIWPee"
      },
      "execution_count": 9,
      "outputs": []
    },
    {
      "cell_type": "code",
      "source": [
        "print(df['sex'].unique(),'\\n')"
      ],
      "metadata": {
        "colab": {
          "base_uri": "https://localhost:8080/"
        },
        "id": "6KzRRtshWnhM",
        "outputId": "537c3819-41b4-4894-f6ad-3a9234c804ff"
      },
      "execution_count": 10,
      "outputs": [
        {
          "output_type": "stream",
          "name": "stdout",
          "text": [
            "['FEMALE' 'MALE' 'No Answer'] \n",
            "\n"
          ]
        }
      ]
    },
    {
      "cell_type": "markdown",
      "source": [
        "## Clean age variable"
      ],
      "metadata": {
        "id": "ONmyJHJcQ7pu"
      }
    },
    {
      "cell_type": "code",
      "source": [
        "# need to account for age 89 or older\n",
        "df['age'] = df['age'].replace('89 or older', '89')"
      ],
      "metadata": {
        "id": "DpAVbAS2Q0A2"
      },
      "execution_count": 11,
      "outputs": []
    },
    {
      "cell_type": "code",
      "source": [
        "# coerce age variable to numeric\n",
        "df['age'] = pd.to_numeric(df['age'], errors='coerce')"
      ],
      "metadata": {
        "id": "pgIQWIjGyLYE"
      },
      "execution_count": 12,
      "outputs": []
    },
    {
      "cell_type": "code",
      "source": [
        "print('Age variable summary: \\n', df['age'].describe(),'\\n')"
      ],
      "metadata": {
        "colab": {
          "base_uri": "https://localhost:8080/"
        },
        "id": "cO9F2ulb7DuZ",
        "outputId": "65a61c25-7403-4241-bb82-d179a40914ff"
      },
      "execution_count": 13,
      "outputs": [
        {
          "output_type": "stream",
          "name": "stdout",
          "text": [
            "Age variable summary: \n",
            " count    46839.000000\n",
            "mean        47.477423\n",
            "std         17.482017\n",
            "min         18.000000\n",
            "25%         33.000000\n",
            "50%         46.000000\n",
            "75%         61.000000\n",
            "max         89.000000\n",
            "Name: age, dtype: float64 \n",
            "\n"
          ]
        }
      ]
    },
    {
      "cell_type": "markdown",
      "source": [
        "## Clean child variable"
      ],
      "metadata": {
        "id": "bMm1hB0-RGsy"
      }
    },
    {
      "cell_type": "code",
      "source": [
        "print(df['childs'].unique(),'\\n') # list of unique values\n",
        "print(df['childs'].value_counts(), '\\n') # number of times each unique value occurs"
      ],
      "metadata": {
        "colab": {
          "base_uri": "https://localhost:8080/"
        },
        "id": "ERaGtm4du-Gg",
        "outputId": "6abe917b-89d0-4f99-95ee-5f94778d0e52"
      },
      "execution_count": 14,
      "outputs": [
        {
          "output_type": "stream",
          "name": "stdout",
          "text": [
            "['0' '6' '2' '3' '5' '1' '4' '.d:  Do not Know/Cannot Choose' '8 or more'\n",
            " '7' '.n:  No answer' '.s:  Skipped on Web' '.i:  Inapplicable'] \n",
            "\n",
            "childs\n",
            "0                                 13350\n",
            "2                                 12401\n",
            "1                                  7596\n",
            "3                                  7393\n",
            "4                                  3586\n",
            "5                                  1458\n",
            "6                                   721\n",
            "8 or more                           444\n",
            "7                                   375\n",
            ".d:  Do not Know/Cannot Choose      113\n",
            ".n:  No answer                       33\n",
            ".i:  Inapplicable                    16\n",
            ".s:  Skipped on Web                  11\n",
            "Name: count, dtype: int64 \n",
            "\n"
          ]
        }
      ]
    },
    {
      "cell_type": "code",
      "source": [
        "# need to account for number of children 8 or more, changing to 8 so still retained when coerce\n",
        "df['childs'] = df['childs'].replace('8 or more', '8')"
      ],
      "metadata": {
        "id": "dEZJUrLruoci"
      },
      "execution_count": 15,
      "outputs": []
    },
    {
      "cell_type": "code",
      "source": [
        "# coerce number of children to numeric\n",
        "df['childs'] = pd.to_numeric(df['childs'], errors='coerce')"
      ],
      "metadata": {
        "id": "UwMYo5gPyRlH"
      },
      "execution_count": 16,
      "outputs": []
    },
    {
      "cell_type": "code",
      "source": [
        "print(df['childs'].unique(),'\\n') # list of unique values"
      ],
      "metadata": {
        "colab": {
          "base_uri": "https://localhost:8080/"
        },
        "id": "SLemfvoaQYy-",
        "outputId": "a2bca9f6-d22d-4555-d056-7b4af2747100"
      },
      "execution_count": 17,
      "outputs": [
        {
          "output_type": "stream",
          "name": "stdout",
          "text": [
            "[ 0.  6.  2.  3.  5.  1.  4. nan  8.  7.] \n",
            "\n"
          ]
        }
      ]
    },
    {
      "cell_type": "code",
      "source": [
        "print('# of Children variable summary: \\n', df['childs'].describe(),'\\n')"
      ],
      "metadata": {
        "colab": {
          "base_uri": "https://localhost:8080/"
        },
        "id": "aJ_PYHF2ubLN",
        "outputId": "82bc92c2-9864-49eb-c03a-251ecfc86f4b"
      },
      "execution_count": 18,
      "outputs": [
        {
          "output_type": "stream",
          "name": "stdout",
          "text": [
            "# of Children variable summary: \n",
            " count    47324.000000\n",
            "mean         1.832347\n",
            "std          1.666458\n",
            "min          0.000000\n",
            "25%          0.000000\n",
            "50%          2.000000\n",
            "75%          3.000000\n",
            "max          8.000000\n",
            "Name: childs, dtype: float64 \n",
            "\n"
          ]
        }
      ]
    },
    {
      "cell_type": "markdown",
      "source": [
        "## Clean number hours work per week variable"
      ],
      "metadata": {
        "id": "_OZilA0TRMr_"
      }
    },
    {
      "cell_type": "code",
      "source": [
        "# number of hours usually work a week should also be numeric, need to account for non-numeric answers\n",
        "df['hrs2'] = df['hrs2'].replace('89+ hrs', '89')"
      ],
      "metadata": {
        "id": "okUZaGNLyZFZ"
      },
      "execution_count": 19,
      "outputs": []
    },
    {
      "cell_type": "code",
      "source": [
        "# coerce number of children to numeric\n",
        "df['hrs2'] = pd.to_numeric(df['hrs2'], errors='coerce')"
      ],
      "metadata": {
        "id": "xJlAXt0XSY2J"
      },
      "execution_count": 20,
      "outputs": []
    },
    {
      "cell_type": "markdown",
      "source": [
        "## Clean general happiness variable"
      ],
      "metadata": {
        "id": "wUq6tMwTTnIi"
      }
    },
    {
      "cell_type": "code",
      "source": [
        "# clean general happiness, want to put all \"No answer\" type of answers as one category\n",
        "df[\"happy\"] = df[\"happy\"].replace(['.n:  No answer', '.i:  Inapplicable',\n",
        "                               '.s:  Skipped on Web', '.d:  Do not Know/Cannot Choose'],\n",
        "                              'No Answer')"
      ],
      "metadata": {
        "id": "PzeGzyKGT-5O"
      },
      "execution_count": 22,
      "outputs": []
    },
    {
      "cell_type": "code",
      "source": [
        "print(df['happy'].unique(),'\\n')"
      ],
      "metadata": {
        "colab": {
          "base_uri": "https://localhost:8080/"
        },
        "id": "L7tSFmjCYozV",
        "outputId": "6182f69b-3a76-4e2a-d248-2f98d6dc0797"
      },
      "execution_count": 23,
      "outputs": [
        {
          "output_type": "stream",
          "name": "stdout",
          "text": [
            "['Pretty happy' 'Very happy' 'Not too happy' 'No Answer'] \n",
            "\n"
          ]
        }
      ]
    },
    {
      "cell_type": "markdown",
      "source": [
        "## Clean marital happiness variable"
      ],
      "metadata": {
        "id": "zKKCw1HHUqbh"
      }
    },
    {
      "cell_type": "code",
      "source": [
        "# clean marital happiness, want to put the \"Don't Know\" and \"Skipped\" into one catgeory\n",
        "# and have Inapplicable still be its own catgeory (bc that would mean those ppl aren't married and that is still important)\n",
        "df['hapmar'] = df['hapmar'].replace(['.n:  No answer', '.s:  Skipped on Web',\n",
        "                                       '.d:  Do not Know/Cannot Choose'],\n",
        "                              'No Answer')"
      ],
      "metadata": {
        "id": "-Zq6gIwHUEa1"
      },
      "execution_count": 27,
      "outputs": []
    },
    {
      "cell_type": "code",
      "source": [
        "df['hapmar'] = df['hapmar'].replace('.i:  Inapplicable', 'Inapplicable')"
      ],
      "metadata": {
        "id": "pAQsQ3wkYC3M"
      },
      "execution_count": 25,
      "outputs": []
    },
    {
      "cell_type": "code",
      "source": [
        "print(df['hapmar'].unique(),'\\n')"
      ],
      "metadata": {
        "colab": {
          "base_uri": "https://localhost:8080/"
        },
        "id": "5CLgGBniYrNs",
        "outputId": "09aef6c0-89e4-4f6e-ca8c-145d4fdb5f42"
      },
      "execution_count": 28,
      "outputs": [
        {
          "output_type": "stream",
          "name": "stdout",
          "text": [
            "['Inapplicable' 'VERY HAPPY' 'PRETTY HAPPY' 'NOT TOO HAPPY' 'No Answer'] \n",
            "\n"
          ]
        }
      ]
    },
    {
      "cell_type": "markdown",
      "source": [
        "## Clean marital status variable"
      ],
      "metadata": {
        "id": "3bqg9rlkUsNe"
      }
    },
    {
      "cell_type": "code",
      "source": [
        "# clean marital status - make one category for all \"No answer\" answers\n",
        "print(df['marital'].unique(),'\\n')"
      ],
      "metadata": {
        "colab": {
          "base_uri": "https://localhost:8080/"
        },
        "id": "TJOZAPDqUXoF",
        "outputId": "9c7955e1-a4f0-421a-b60e-95761a7f781f"
      },
      "execution_count": 29,
      "outputs": [
        {
          "output_type": "stream",
          "name": "stdout",
          "text": [
            "['Never married' 'Widowed' 'Divorced' 'Married' 'Separated' 'No Answer'] \n",
            "\n"
          ]
        }
      ]
    },
    {
      "cell_type": "code",
      "source": [
        "df['marital'] = df['marital'].replace(['.n:  No answer', '.s:  Skipped on Web',\n",
        "                                       '.d:  Do not Know/Cannot Choose'],\n",
        "                              'No Answer')"
      ],
      "metadata": {
        "id": "CAQRJgHeW-FO"
      },
      "execution_count": 22,
      "outputs": []
    },
    {
      "cell_type": "code",
      "source": [
        "print(df['marital'].unique(),'\\n')"
      ],
      "metadata": {
        "colab": {
          "base_uri": "https://localhost:8080/"
        },
        "id": "wHTH-hJ5XNR4",
        "outputId": "faed0c6e-fc83-4307-e80f-3b6973b03835"
      },
      "execution_count": 30,
      "outputs": [
        {
          "output_type": "stream",
          "name": "stdout",
          "text": [
            "['Never married' 'Widowed' 'Divorced' 'Married' 'Separated' 'No Answer'] \n",
            "\n"
          ]
        }
      ]
    },
    {
      "cell_type": "markdown",
      "source": [
        "## Clean exciting/dull life variable"
      ],
      "metadata": {
        "id": "Uume2nPNXZhb"
      }
    },
    {
      "cell_type": "code",
      "source": [
        "print(df['life'].unique(),'\\n')"
      ],
      "metadata": {
        "colab": {
          "base_uri": "https://localhost:8080/"
        },
        "id": "5EsY76tmXb7h",
        "outputId": "511b3491-13d0-4c4a-bf81-ea077edc4a9d"
      },
      "execution_count": 31,
      "outputs": [
        {
          "output_type": "stream",
          "name": "stdout",
          "text": [
            "['.i:  Inapplicable' 'Exciting' 'Routine' '.d:  Do not Know/Cannot Choose'\n",
            " 'Dull' '.n:  No answer' '.s:  Skipped on Web'] \n",
            "\n"
          ]
        }
      ]
    },
    {
      "cell_type": "code",
      "source": [
        "df['life'] = df['life'].replace(['.n:  No answer', '.s:  Skipped on Web', '.i:  Inapplicable',\n",
        "                                       '.d:  Do not Know/Cannot Choose'],\n",
        "                              'No Answer')"
      ],
      "metadata": {
        "id": "G4vvibAQXhNL"
      },
      "execution_count": 32,
      "outputs": []
    },
    {
      "cell_type": "code",
      "source": [
        "print(df['life'].unique(),'\\n')"
      ],
      "metadata": {
        "colab": {
          "base_uri": "https://localhost:8080/"
        },
        "id": "f3iEdmFCXoNP",
        "outputId": "58d6cd43-1b14-4114-eacf-f9299094da40"
      },
      "execution_count": 33,
      "outputs": [
        {
          "output_type": "stream",
          "name": "stdout",
          "text": [
            "['No Answer' 'Exciting' 'Routine' 'Dull'] \n",
            "\n"
          ]
        }
      ]
    },
    {
      "cell_type": "markdown",
      "source": [
        "# Numeric Summaries and Visualizations"
      ],
      "metadata": {
        "id": "9ZFudXrNzMO8"
      }
    },
    {
      "cell_type": "markdown",
      "source": [
        "### Marital Status"
      ],
      "metadata": {
        "id": "EqyVhsDvwtzA"
      }
    },
    {
      "cell_type": "code",
      "source": [
        "# explore marital status\n",
        "print(df['marital'].value_counts())"
      ],
      "metadata": {
        "colab": {
          "base_uri": "https://localhost:8080/"
        },
        "id": "u3xq5MVNzs_6",
        "outputId": "c351efcf-7396-4549-f0b1-b4296afaf998"
      },
      "execution_count": 34,
      "outputs": [
        {
          "output_type": "stream",
          "name": "stdout",
          "text": [
            "marital\n",
            "Married          22461\n",
            "Never married    11784\n",
            "Divorced          7467\n",
            "Widowed           4178\n",
            "Separated         1558\n",
            "No Answer           49\n",
            "Name: count, dtype: int64\n"
          ]
        }
      ]
    },
    {
      "cell_type": "code",
      "source": [
        "var = 'marital'\n",
        "sns.countplot(x=var, data=df)\n",
        "\n",
        "plt.title('Marital Status')\n",
        "plt.xlabel('Marital Status')\n",
        "plt.ylabel('Frequency')\n",
        "\n",
        "plt.show()"
      ],
      "metadata": {
        "id": "FGjjjvK4uJA9",
        "outputId": "6329fcb8-9480-431a-cb73-62dd9c164ce1",
        "colab": {
          "base_uri": "https://localhost:8080/",
          "height": 472
        }
      },
      "execution_count": 35,
      "outputs": [
        {
          "output_type": "display_data",
          "data": {
            "text/plain": [
              "<Figure size 640x480 with 1 Axes>"
            ],
            "image/png": "[encoded data removed]"
          },
          "metadata": {}
        }
      ]
    },
    {
      "cell_type": "markdown",
      "source": [
        "### Age"
      ],
      "metadata": {
        "id": "q97PXgjuwxK9"
      }
    },
    {
      "cell_type": "code",
      "source": [
        "# explore distribution of age variable\n",
        "var = 'age'\n",
        "sns.histplot(df[var], bins=15)\n",
        "\n",
        "plt.title('Age')\n",
        "plt.xlabel('Age')\n",
        "plt.ylabel('Frequency')\n",
        "\n",
        "plt.show()"
      ],
      "metadata": {
        "colab": {
          "base_uri": "https://localhost:8080/",
          "height": 472
        },
        "id": "nqpSj4vizfdi",
        "outputId": "ba58f1a5-f930-4189-bd2d-cf2df48b993c"
      },
      "execution_count": 29,
      "outputs": [
        {
          "output_type": "display_data",
          "data": {
            "text/plain": [
              "<Figure size 640x480 with 1 Axes>"
            ],
            "image/png": "[encoded data removed]"
          },
          "metadata": {}
        }
      ]
    },
    {
      "cell_type": "markdown",
      "source": [
        "### Usual Hours Worked per Week"
      ],
      "metadata": {
        "id": "FtDAHTYlwzNO"
      }
    },
    {
      "cell_type": "code",
      "source": [
        "# Describe the usual hours worked per week variable, see some calculated measures of tendency\n",
        "print('Usual # of hours/week worked variable summary: \\n', df['hrs2'].describe(),'\\n')"
      ],
      "metadata": {
        "id": "UZtlFHDKwe6F",
        "outputId": "f41cca89-ae62-4093-ab7e-9cd60e800240",
        "colab": {
          "base_uri": "https://localhost:8080/"
        }
      },
      "execution_count": 36,
      "outputs": [
        {
          "output_type": "stream",
          "name": "stdout",
          "text": [
            "Usual # of hours/week worked variable summary: \n",
            " count    919.000000\n",
            "mean      38.648531\n",
            "std       13.484982\n",
            "min        0.000000\n",
            "25%       35.000000\n",
            "50%       40.000000\n",
            "75%       45.000000\n",
            "max       89.000000\n",
            "Name: hrs2, dtype: float64 \n",
            "\n"
          ]
        }
      ]
    },
    {
      "cell_type": "markdown",
      "source": [
        "### General happiness levels"
      ],
      "metadata": {
        "id": "qkqb4IaaxisN"
      }
    },
    {
      "cell_type": "code",
      "source": [
        "# Counts of levels of general happiness: Very happy, Pretty happy, or Not too happy\n",
        "var = 'happy'\n",
        "sns.histplot(df[var], bins=15)\n",
        "\n",
        "plt.title('General Happiness')\n",
        "plt.xlabel('General Happiness')\n",
        "plt.ylabel('Frequency')\n",
        "\n",
        "plt.show()"
      ],
      "metadata": {
        "id": "xIr-fU7lvmxn",
        "outputId": "bb0d11b7-b477-4251-cba1-35fe4907625d",
        "colab": {
          "base_uri": "https://localhost:8080/",
          "height": 472
        }
      },
      "execution_count": 40,
      "outputs": [
        {
          "output_type": "display_data",
          "data": {
            "text/plain": [
              "<Figure size 640x480 with 1 Axes>"
            ],
            "image/png": "[encoded data removed]"
          },
          "metadata": {}
        }
      ]
    },
    {
      "cell_type": "markdown",
      "source": [
        "### Is life exciting, routine, or dull?"
      ],
      "metadata": {
        "id": "sl9cjpEIxfGF"
      }
    },
    {
      "cell_type": "code",
      "source": [
        "# Counts of whether life is: Exciting, Routine, or Dull\n",
        "var = 'life'\n",
        "sns.histplot(df[var], bins=15)\n",
        "\n",
        "plt.title('Is life exciting or dull?')\n",
        "plt.xlabel('Answer')\n",
        "plt.ylabel('Frequency')\n",
        "\n",
        "plt.show()"
      ],
      "metadata": {
        "id": "niELtMNgvo5w",
        "outputId": "f53e75a1-e37f-4ae7-dfa3-6c815f49851b",
        "colab": {
          "base_uri": "https://localhost:8080/",
          "height": 472
        }
      },
      "execution_count": 44,
      "outputs": [
        {
          "output_type": "display_data",
          "data": {
            "text/plain": [
              "<Figure size 640x480 with 1 Axes>"
            ],
            "image/png": "[encoded data removed]"
          },
          "metadata": {}
        }
      ]
    },
    {
      "cell_type": "code",
      "source": [
        "# cross tab number of children and marital happiness\n",
        "pd.crosstab(df['childs'], df['hapmar'])"
      ],
      "metadata": {
        "id": "d4W0p_oUyPim",
        "outputId": "2c451261-7330-488e-ea04-e932fdd6b157",
        "colab": {
          "base_uri": "https://localhost:8080/",
          "height": 363
        }
      },
      "execution_count": 39,
      "outputs": [
        {
          "output_type": "execute_result",
          "data": {
            "text/plain": [
              "hapmar  Inapplicable  NOT TOO HAPPY  No Answer  PRETTY HAPPY  VERY HAPPY\n",
              "childs                                                                  \n",
              "0.0            10482             63         22           815        1968\n",
              "1.0             4234            103         30          1176        2053\n",
              "2.0             5426            220         36          2507        4212\n",
              "3.0             3513            137         16          1370        2357\n",
              "4.0             1799             63         17           650        1057\n",
              "5.0              759             30          4           254         411\n",
              "6.0              421             17          5           113         165\n",
              "7.0              206              6          1            63          99\n",
              "8.0              281              9          2            57          95"
            ],
            "text/html": [
              "\n",
              "  <div id=\"df-c172e653-136d-4a85-8e7b-0bca5f2f6be1\" class=\"colab-df-container\">\n",
              "    <div>\n",
              "<style scoped>\n",
              "    .dataframe tbody tr th:only-of-type {\n",
              "        vertical-align: middle;\n",
              "    }\n",
              "\n",
              "    .dataframe tbody tr th {\n",
              "        vertical-align: top;\n",
              "    }\n",
              "\n",
              "    .dataframe thead th {\n",
              "        text-align: right;\n",
              "    }\n",
              "</style>\n",
              "<table border=\"1\" class=\"dataframe\">\n",
              "  <thead>\n",
              "    <tr style=\"text-align: right;\">\n",
              "      <th>hapmar</th>\n",
              "      <th>Inapplicable</th>\n",
              "      <th>NOT TOO HAPPY</th>\n",
              "      <th>No Answer</th>\n",
              "      <th>PRETTY HAPPY</th>\n",
              "      <th>VERY HAPPY</th>\n",
              "    </tr>\n",
              "    <tr>\n",
              "      <th>childs</th>\n",
              "      <th></th>\n",
              "      <th></th>\n",
              "      <th></th>\n",
              "      <th></th>\n",
              "      <th></th>\n",
              "    </tr>\n",
              "  </thead>\n",
              "  <tbody>\n",
              "    <tr>\n",
              "      <th>0.0</th>\n",
              "      <td>10482</td>\n",
              "      <td>63</td>\n",
              "      <td>22</td>\n",
              "      <td>815</td>\n",
              "      <td>1968</td>\n",
              "    </tr>\n",
              "    <tr>\n",
              "      <th>1.0</th>\n",
              "      <td>4234</td>\n",
              "      <td>103</td>\n",
              "      <td>30</td>\n",
              "      <td>1176</td>\n",
              "      <td>2053</td>\n",
              "    </tr>\n",
              "    <tr>\n",
              "      <th>2.0</th>\n",
              "      <td>5426</td>\n",
              "      <td>220</td>\n",
              "      <td>36</td>\n",
              "      <td>2507</td>\n",
              "      <td>4212</td>\n",
              "    </tr>\n",
              "    <tr>\n",
              "      <th>3.0</th>\n",
              "      <td>3513</td>\n",
              "      <td>137</td>\n",
              "      <td>16</td>\n",
              "      <td>1370</td>\n",
              "      <td>2357</td>\n",
              "    </tr>\n",
              "    <tr>\n",
              "      <th>4.0</th>\n",
              "      <td>1799</td>\n",
              "      <td>63</td>\n",
              "      <td>17</td>\n",
              "      <td>650</td>\n",
              "      <td>1057</td>\n",
              "    </tr>\n",
              "    <tr>\n",
              "      <th>5.0</th>\n",
              "      <td>759</td>\n",
              "      <td>30</td>\n",
              "      <td>4</td>\n",
              "      <td>254</td>\n",
              "      <td>411</td>\n",
              "    </tr>\n",
              "    <tr>\n",
              "      <th>6.0</th>\n",
              "      <td>421</td>\n",
              "      <td>17</td>\n",
              "      <td>5</td>\n",
              "      <td>113</td>\n",
              "      <td>165</td>\n",
              "    </tr>\n",
              "    <tr>\n",
              "      <th>7.0</th>\n",
              "      <td>206</td>\n",
              "      <td>6</td>\n",
              "      <td>1</td>\n",
              "      <td>63</td>\n",
              "      <td>99</td>\n",
              "    </tr>\n",
              "    <tr>\n",
              "      <th>8.0</th>\n",
              "      <td>281</td>\n",
              "      <td>9</td>\n",
              "      <td>2</td>\n",
              "      <td>57</td>\n",
              "      <td>95</td>\n",
              "    </tr>\n",
              "  </tbody>\n",
              "</table>\n",
              "</div>\n",
              "    <div class=\"colab-df-buttons\">\n",
              "\n",
              "  <div class=\"colab-df-container\">\n",
              "    <button class=\"colab-df-convert\" onclick=\"convertToInteractive('df-c172e653-136d-4a85-8e7b-0bca5f2f6be1')\"\n",
              "            title=\"Convert this dataframe to an interactive table.\"\n",
              "            style=\"display:none;\">\n",
              "\n",
              "  <svg xmlns=\"http://www.w3.org/2000/svg\" height=\"24px\" viewBox=\"0 -960 960 960\">\n",
              "    <path d=\"M120-120v-720h720v720H120Zm60-500h600v-160H180v160Zm220 220h160v-160H400v160Zm0 220h160v-160H400v160ZM180-400h160v-160H180v160Zm440 0h160v-160H620v160ZM180-180h160v-160H180v160Zm440 0h160v-160H620v160Z\"/>\n",
              "  </svg>\n",
              "    </button>\n",
              "\n",
              "  <style>\n",
              "    .colab-df-container {\n",
              "      display:flex;\n",
              "      gap: 12px;\n",
              "    }\n",
              "\n",
              "    .colab-df-convert {\n",
              "      background-color: #E8F0FE;\n",
              "      border: none;\n",
              "      border-radius: 50%;\n",
              "      cursor: pointer;\n",
              "      display: none;\n",
              "      fill: #1967D2;\n",
              "      height: 32px;\n",
              "      padding: 0 0 0 0;\n",
              "      width: 32px;\n",
              "    }\n",
              "\n",
              "    .colab-df-convert:hover {\n",
              "      background-color: #E2EBFA;\n",
              "      box-shadow: 0px 1px 2px rgba(60, 64, 67, 0.3), 0px 1px 3px 1px rgba(60, 64, 67, 0.15);\n",
              "      fill: #174EA6;\n",
              "    }\n",
              "\n",
              "    .colab-df-buttons div {\n",
              "      margin-bottom: 4px;\n",
              "    }\n",
              "\n",
              "    [theme=dark] .colab-df-convert {\n",
              "      background-color: #3B4455;\n",
              "      fill: #D2E3FC;\n",
              "    }\n",
              "\n",
              "    [theme=dark] .colab-df-convert:hover {\n",
              "      background-color: #434B5C;\n",
              "      box-shadow: 0px 1px 3px 1px rgba(0, 0, 0, 0.15);\n",
              "      filter: drop-shadow(0px 1px 2px rgba(0, 0, 0, 0.3));\n",
              "      fill: #FFFFFF;\n",
              "    }\n",
              "  </style>\n",
              "\n",
              "    <script>\n",
              "      const buttonEl =\n",
              "        document.querySelector('#df-c172e653-136d-4a85-8e7b-0bca5f2f6be1 button.colab-df-convert');\n",
              "      buttonEl.style.display =\n",
              "        google.colab.kernel.accessAllowed ? 'block' : 'none';\n",
              "\n",
              "      async function convertToInteractive(key) {\n",
              "        const element = document.querySelector('#df-c172e653-136d-4a85-8e7b-0bca5f2f6be1');\n",
              "        const dataTable =\n",
              "          await google.colab.kernel.invokeFunction('convertToInteractive',\n",
              "                                                    [key], {});\n",
              "        if (!dataTable) return;\n",
              "\n",
              "        const docLinkHtml = 'Like what you see? Visit the ' +\n",
              "          '<a target=\"_blank\" href=https://colab.research.google.com/notebooks/data_table.ipynb>data table notebook</a>'\n",
              "          + ' to learn more about interactive tables.';\n",
              "        element.innerHTML = '';\n",
              "        dataTable['output_type'] = 'display_data';\n",
              "        await google.colab.output.renderOutput(dataTable, element);\n",
              "        const docLink = document.createElement('div');\n",
              "        docLink.innerHTML = docLinkHtml;\n",
              "        element.appendChild(docLink);\n",
              "      }\n",
              "    </script>\n",
              "  </div>\n",
              "\n",
              "\n",
              "<div id=\"df-c3fecc44-463e-42ef-83da-7a000560d8db\">\n",
              "  <button class=\"colab-df-quickchart\" onclick=\"quickchart('df-c3fecc44-463e-42ef-83da-7a000560d8db')\"\n",
              "            title=\"Suggest charts\"\n",
              "            style=\"display:none;\">\n",
              "\n",
              "<svg xmlns=\"http://www.w3.org/2000/svg\" height=\"24px\"viewBox=\"0 0 24 24\"\n",
              "     width=\"24px\">\n",
              "    <g>\n",
              "        <path d=\"M19 3H5c-1.1 0-2 .9-2 2v14c0 1.1.9 2 2 2h14c1.1 0 2-.9 2-2V5c0-1.1-.9-2-2-2zM9 17H7v-7h2v7zm4 0h-2V7h2v10zm4 0h-2v-4h2v4z\"/>\n",
              "    </g>\n",
              "</svg>\n",
              "  </button>\n",
              "\n",
              "<style>\n",
              "  .colab-df-quickchart {\n",
              "      --bg-color: #E8F0FE;\n",
              "      --fill-color: #1967D2;\n",
              "      --hover-bg-color: #E2EBFA;\n",
              "      --hover-fill-color: #174EA6;\n",
              "      --disabled-fill-color: #AAA;\n",
              "      --disabled-bg-color: #DDD;\n",
              "  }\n",
              "\n",
              "  [theme=dark] .colab-df-quickchart {\n",
              "      --bg-color: #3B4455;\n",
              "      --fill-color: #D2E3FC;\n",
              "      --hover-bg-color: #434B5C;\n",
              "      --hover-fill-color: #FFFFFF;\n",
              "      --disabled-bg-color: #3B4455;\n",
              "      --disabled-fill-color: #666;\n",
              "  }\n",
              "\n",
              "  .colab-df-quickchart {\n",
              "    background-color: var(--bg-color);\n",
              "    border: none;\n",
              "    border-radius: 50%;\n",
              "    cursor: pointer;\n",
              "    display: none;\n",
              "    fill: var(--fill-color);\n",
              "    height: 32px;\n",
              "    padding: 0;\n",
              "    width: 32px;\n",
              "  }\n",
              "\n",
              "  .colab-df-quickchart:hover {\n",
              "    background-color: var(--hover-bg-color);\n",
              "    box-shadow: 0 1px 2px rgba(60, 64, 67, 0.3), 0 1px 3px 1px rgba(60, 64, 67, 0.15);\n",
              "    fill: var(--button-hover-fill-color);\n",
              "  }\n",
              "\n",
              "  .colab-df-quickchart-complete:disabled,\n",
              "  .colab-df-quickchart-complete:disabled:hover {\n",
              "    background-color: var(--disabled-bg-color);\n",
              "    fill: var(--disabled-fill-color);\n",
              "    box-shadow: none;\n",
              "  }\n",
              "\n",
              "  .colab-df-spinner {\n",
              "    border: 2px solid var(--fill-color);\n",
              "    border-color: transparent;\n",
              "    border-bottom-color: var(--fill-color);\n",
              "    animation:\n",
              "      spin 1s steps(1) infinite;\n",
              "  }\n",
              "\n",
              "  @keyframes spin {\n",
              "    0% {\n",
              "      border-color: transparent;\n",
              "      border-bottom-color: var(--fill-color);\n",
              "      border-left-color: var(--fill-color);\n",
              "    }\n",
              "    20% {\n",
              "      border-color: transparent;\n",
              "      border-left-color: var(--fill-color);\n",
              "      border-top-color: var(--fill-color);\n",
              "    }\n",
              "    30% {\n",
              "      border-color: transparent;\n",
              "      border-left-color: var(--fill-color);\n",
              "      border-top-color: var(--fill-color);\n",
              "      border-right-color: var(--fill-color);\n",
              "    }\n",
              "    40% {\n",
              "      border-color: transparent;\n",
              "      border-right-color: var(--fill-color);\n",
              "      border-top-color: var(--fill-color);\n",
              "    }\n",
              "    60% {\n",
              "      border-color: transparent;\n",
              "      border-right-color: var(--fill-color);\n",
              "    }\n",
              "    80% {\n",
              "      border-color: transparent;\n",
              "      border-right-color: var(--fill-color);\n",
              "      border-bottom-color: var(--fill-color);\n",
              "    }\n",
              "    90% {\n",
              "      border-color: transparent;\n",
              "      border-bottom-color: var(--fill-color);\n",
              "    }\n",
              "  }\n",
              "</style>\n",
              "\n",
              "  <script>\n",
              "    async function quickchart(key) {\n",
              "      const quickchartButtonEl =\n",
              "        document.querySelector('#' + key + ' button');\n",
              "      quickchartButtonEl.disabled = true;  // To prevent multiple clicks.\n",
              "      quickchartButtonEl.classList.add('colab-df-spinner');\n",
              "      try {\n",
              "        const charts = await google.colab.kernel.invokeFunction(\n",
              "            'suggestCharts', [key], {});\n",
              "      } catch (error) {\n",
              "        console.error('Error during call to suggestCharts:', error);\n",
              "      }\n",
              "      quickchartButtonEl.classList.remove('colab-df-spinner');\n",
              "      quickchartButtonEl.classList.add('colab-df-quickchart-complete');\n",
              "    }\n",
              "    (() => {\n",
              "      let quickchartButtonEl =\n",
              "        document.querySelector('#df-c3fecc44-463e-42ef-83da-7a000560d8db button');\n",
              "      quickchartButtonEl.style.display =\n",
              "        google.colab.kernel.accessAllowed ? 'block' : 'none';\n",
              "    })();\n",
              "  </script>\n",
              "</div>\n",
              "\n",
              "    </div>\n",
              "  </div>\n"
            ],
            "application/vnd.google.colaboratory.intrinsic+json": {
              "type": "dataframe",
              "summary": "{\n  \"name\": \"pd\",\n  \"rows\": 9,\n  \"fields\": [\n    {\n      \"column\": \"childs\",\n      \"properties\": {\n        \"dtype\": \"number\",\n        \"std\": 2.7386127875258306,\n        \"min\": 0.0,\n        \"max\": 8.0,\n        \"num_unique_values\": 9,\n        \"samples\": [\n          7.0,\n          1.0,\n          5.0\n        ],\n        \"semantic_type\": \"\",\n        \"description\": \"\"\n      }\n    },\n    {\n      \"column\": \"Inapplicable\",\n      \"properties\": {\n        \"dtype\": \"number\",\n        \"std\": 3390,\n        \"min\": 206,\n        \"max\": 10482,\n        \"num_unique_values\": 9,\n        \"samples\": [\n          206,\n          4234,\n          759\n        ],\n        \"semantic_type\": \"\",\n        \"description\": \"\"\n      }\n    },\n    {\n      \"column\": \"NOT TOO HAPPY\",\n      \"properties\": {\n        \"dtype\": \"number\",\n        \"std\": 71,\n        \"min\": 6,\n        \"max\": 220,\n        \"num_unique_values\": 8,\n        \"samples\": [\n          103,\n          17,\n          63\n        ],\n        \"semantic_type\": \"\",\n        \"description\": \"\"\n      }\n    },\n    {\n      \"column\": \"No Answer\",\n      \"properties\": {\n        \"dtype\": \"number\",\n        \"std\": 12,\n        \"min\": 1,\n        \"max\": 36,\n        \"num_unique_values\": 9,\n        \"samples\": [\n          1,\n          30,\n          4\n        ],\n        \"semantic_type\": \"\",\n        \"description\": \"\"\n      }\n    },\n    {\n      \"column\": \"PRETTY HAPPY\",\n      \"properties\": {\n        \"dtype\": \"number\",\n        \"std\": 811,\n        \"min\": 57,\n        \"max\": 2507,\n        \"num_unique_values\": 9,\n        \"samples\": [\n          63,\n          1176,\n          254\n        ],\n        \"semantic_type\": \"\",\n        \"description\": \"\"\n      }\n    },\n    {\n      \"column\": \"VERY HAPPY\",\n      \"properties\": {\n        \"dtype\": \"number\",\n        \"std\": 1395,\n        \"min\": 95,\n        \"max\": 4212,\n        \"num_unique_values\": 9,\n        \"samples\": [\n          99,\n          2053,\n          411\n        ],\n        \"semantic_type\": \"\",\n        \"description\": \"\"\n      }\n    }\n  ]\n}"
            }
          },
          "metadata": {},
          "execution_count": 39
        }
      ]
    },
    {
      "cell_type": "code",
      "source": [
        "# visualization: scatterplot showing general happiness by age, sex"
      ],
      "metadata": {
        "id": "JxYaVnFwzw3-"
      },
      "execution_count": null,
      "outputs": []
    },
    {
      "cell_type": "code",
      "source": [
        "# visualization: scatterplot showing marital happiness with number of children, hrs usually work, and sex"
      ],
      "metadata": {
        "id": "DpoTMuig0AwK"
      },
      "execution_count": null,
      "outputs": []
    },
    {
      "cell_type": "code",
      "source": [
        "# visualization: life exciting or dull with age, sex"
      ],
      "metadata": {
        "id": "waH5Rtoj0c-o"
      },
      "execution_count": null,
      "outputs": []
    },
    {
      "cell_type": "code",
      "source": [
        "# visualiaztion: want to see distribution of happiness at different ages"
      ],
      "metadata": {
        "id": "GF20u5f60rxo"
      },
      "execution_count": null,
      "outputs": []
    },
    {
      "cell_type": "code",
      "source": [
        "# visualization: over the years, have people gotten happier in general?"
      ],
      "metadata": {
        "id": "qSdoX3ar0wx1"
      },
      "execution_count": null,
      "outputs": []
    }
  ],
  "metadata": {
    "language_info": {
      "name": "python"
    },
    "colab": {
      "provenance": []
    },
    "kernelspec": {
      "name": "python3",
      "display_name": "Python 3"
    }
  },
  "nbformat": 4,
  "nbformat_minor": 0
}